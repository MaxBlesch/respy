{
 "cells": [
  {
   "cell_type": "code",
   "execution_count": 113,
   "metadata": {},
   "outputs": [],
   "source": [
    "import pandas as pd\n",
    "import numpy as np\n",
    "import itertools"
   ]
  },
  {
   "cell_type": "code",
   "execution_count": 200,
   "metadata": {},
   "outputs": [],
   "source": [
    "df = pd.DataFrame(\n",
    "    columns=[\"sick_and_old\", \"healthy_and_old\", \"sick_and_young\", \"healthy_and_young\"],\n",
    "    index=[\"sick_and_old\", \"healthy_and_old\", \"sick_and_young\", \"healthy_and_young\"],\n",
    "    data=[[0.8, 0.2, 0, 0],\n",
    "         [0.6, 0.4, 0, 0],\n",
    "         [0, 0, 0.3, 0.7],\n",
    "         [0, 0, 0.1, 0.9]],\n",
    ")"
   ]
  },
  {
   "cell_type": "code",
   "execution_count": 201,
   "metadata": {
    "scrolled": true
   },
   "outputs": [
    {
     "data": {
      "text/html": [
       "<div>\n",
       "<style scoped>\n",
       "    .dataframe tbody tr th:only-of-type {\n",
       "        vertical-align: middle;\n",
       "    }\n",
       "\n",
       "    .dataframe tbody tr th {\n",
       "        vertical-align: top;\n",
       "    }\n",
       "\n",
       "    .dataframe thead th {\n",
       "        text-align: right;\n",
       "    }\n",
       "</style>\n",
       "<table border=\"1\" class=\"dataframe\">\n",
       "  <thead>\n",
       "    <tr style=\"text-align: right;\">\n",
       "      <th></th>\n",
       "      <th>sick_and_old</th>\n",
       "      <th>healthy_and_old</th>\n",
       "      <th>sick_and_young</th>\n",
       "      <th>healthy_and_young</th>\n",
       "    </tr>\n",
       "  </thead>\n",
       "  <tbody>\n",
       "    <tr>\n",
       "      <th>sick_and_old</th>\n",
       "      <td>0.8</td>\n",
       "      <td>0.2</td>\n",
       "      <td>0.0</td>\n",
       "      <td>0.0</td>\n",
       "    </tr>\n",
       "    <tr>\n",
       "      <th>healthy_and_old</th>\n",
       "      <td>0.6</td>\n",
       "      <td>0.4</td>\n",
       "      <td>0.0</td>\n",
       "      <td>0.0</td>\n",
       "    </tr>\n",
       "    <tr>\n",
       "      <th>sick_and_young</th>\n",
       "      <td>0.0</td>\n",
       "      <td>0.0</td>\n",
       "      <td>0.3</td>\n",
       "      <td>0.7</td>\n",
       "    </tr>\n",
       "    <tr>\n",
       "      <th>healthy_and_young</th>\n",
       "      <td>0.0</td>\n",
       "      <td>0.0</td>\n",
       "      <td>0.1</td>\n",
       "      <td>0.9</td>\n",
       "    </tr>\n",
       "  </tbody>\n",
       "</table>\n",
       "</div>"
      ],
      "text/plain": [
       "                   sick_and_old  healthy_and_old  sick_and_young  \\\n",
       "sick_and_old                0.8              0.2             0.0   \n",
       "healthy_and_old             0.6              0.4             0.0   \n",
       "sick_and_young              0.0              0.0             0.3   \n",
       "healthy_and_young           0.0              0.0             0.1   \n",
       "\n",
       "                   healthy_and_young  \n",
       "sick_and_old                     0.0  \n",
       "healthy_and_old                  0.0  \n",
       "sick_and_young                   0.7  \n",
       "healthy_and_young                0.9  "
      ]
     },
     "execution_count": 201,
     "metadata": {},
     "output_type": "execute_result"
    }
   ],
   "source": [
    "df"
   ]
  },
  {
   "cell_type": "code",
   "execution_count": 204,
   "metadata": {},
   "outputs": [],
   "source": [
    "def parse_exog_process_matrix(matrix, process_name):\n",
    "    \"\"\"\n",
    "    matrix : pd.DataFrame\n",
    "    \n",
    "    \"\"\"\n",
    "    states = check_states_size(matrix)\n",
    "    covariates = create_covariates(states, process_name)\n",
    "    params = create_params(matrix, states, process_name)\n",
    "    return covariates, params\n",
    "    \n",
    "def create_params(matrix, states, process_name):\n",
    "    transformed_matrix = matrix.copy()\n",
    "    transformed_matrix[transformed_matrix == 0] = -1e300\n",
    "    transformed_matrix[transformed_matrix > 0] = np.log(transformed_matrix[transformed_matrix > 0])\n",
    "    transformed_matrix.index = transformed_matrix.index.map(str)\n",
    "    categories = [f\"exogenous_process_{process_name}_{state}\" for state in states]\n",
    "    index = pd.MultiIndex.from_tuples(itertools.product(categories, states), names=[\"category\", \"name\"])\n",
    "    params = pd.DataFrame(index=index, columns=[\"value\"])\n",
    "    for category, origin_state in index:\n",
    "        destination_state = category.split(f\"exogenous_process_{process_name}_\")[1]\n",
    "        params.loc[(category, origin_state), \"value\"] = transformed_matrix.loc[destination_state, origin_state]\n",
    "    return params\n",
    "    \n",
    "    \n",
    "def create_covariates(states, process_name):\n",
    "    covariates = {}\n",
    "    for state in states:\n",
    "        covariates[str(state)] = f\"{process_name} == {state}\"\n",
    "    return covariates\n",
    "    \n",
    "def check_states_size(matrix):\n",
    "    assert matrix.shape[0] == matrix.shape[1]\n",
    "    n_states = matrix.shape[1]\n",
    "    assert (matrix.columns == matrix.index).all()\n",
    "    states = matrix.index\n",
    "    check_numerics(matrix, n_states)\n",
    "    return states\n",
    "    \n",
    "def check_numerics(matrix_values, n_states):\n",
    "    assert (matrix_values.sum(axis=1) == np.full(n_states, 1)).all()\n",
    "    assert( ((matrix_values >= 0) & (matrix_values <= 1)).all()).all()"
   ]
  },
  {
   "cell_type": "code",
   "execution_count": 205,
   "metadata": {},
   "outputs": [],
   "source": [
    "covariates, params = parse_exog_process_matrix(df, \"health_shock\")"
   ]
  },
  {
   "cell_type": "code",
   "execution_count": 208,
   "metadata": {},
   "outputs": [
    {
     "data": {
      "text/plain": [
       "{'sick_and_old': 'health_shock == sick_and_old',\n",
       " 'healthy_and_old': 'health_shock == healthy_and_old',\n",
       " 'sick_and_young': 'health_shock == sick_and_young',\n",
       " 'healthy_and_young': 'health_shock == healthy_and_young'}"
      ]
     },
     "execution_count": 208,
     "metadata": {},
     "output_type": "execute_result"
    }
   ],
   "source": [
    "covariates"
   ]
  },
  {
   "cell_type": "code",
   "execution_count": 206,
   "metadata": {},
   "outputs": [
    {
     "data": {
      "text/plain": [
       "{'sick_and_old': 'health_shock == sick_and_old',\n",
       " 'healthy_and_old': 'health_shock == healthy_and_old',\n",
       " 'sick_and_young': 'health_shock == sick_and_young',\n",
       " 'healthy_and_young': 'health_shock == healthy_and_young'}"
      ]
     },
     "execution_count": 206,
     "metadata": {},
     "output_type": "execute_result"
    }
   ],
   "source": [
    "covariates[\"sick_and_old\"] = \"health_shock == sick_and_old & age > 50\""
   ]
  },
  {
   "cell_type": "code",
   "execution_count": 207,
   "metadata": {},
   "outputs": [
    {
     "data": {
      "text/html": [
       "<div>\n",
       "<style scoped>\n",
       "    .dataframe tbody tr th:only-of-type {\n",
       "        vertical-align: middle;\n",
       "    }\n",
       "\n",
       "    .dataframe tbody tr th {\n",
       "        vertical-align: top;\n",
       "    }\n",
       "\n",
       "    .dataframe thead th {\n",
       "        text-align: right;\n",
       "    }\n",
       "</style>\n",
       "<table border=\"1\" class=\"dataframe\">\n",
       "  <thead>\n",
       "    <tr style=\"text-align: right;\">\n",
       "      <th></th>\n",
       "      <th></th>\n",
       "      <th>value</th>\n",
       "    </tr>\n",
       "    <tr>\n",
       "      <th>category</th>\n",
       "      <th>name</th>\n",
       "      <th></th>\n",
       "    </tr>\n",
       "  </thead>\n",
       "  <tbody>\n",
       "    <tr>\n",
       "      <th rowspan=\"4\" valign=\"top\">exogenous_process_health_shock_sick_and_old</th>\n",
       "      <th>sick_and_old</th>\n",
       "      <td>-0.223144</td>\n",
       "    </tr>\n",
       "    <tr>\n",
       "      <th>healthy_and_old</th>\n",
       "      <td>-1.60944</td>\n",
       "    </tr>\n",
       "    <tr>\n",
       "      <th>sick_and_young</th>\n",
       "      <td>-1e+300</td>\n",
       "    </tr>\n",
       "    <tr>\n",
       "      <th>healthy_and_young</th>\n",
       "      <td>-1e+300</td>\n",
       "    </tr>\n",
       "    <tr>\n",
       "      <th rowspan=\"4\" valign=\"top\">exogenous_process_health_shock_healthy_and_old</th>\n",
       "      <th>sick_and_old</th>\n",
       "      <td>-0.510826</td>\n",
       "    </tr>\n",
       "    <tr>\n",
       "      <th>healthy_and_old</th>\n",
       "      <td>-0.916291</td>\n",
       "    </tr>\n",
       "    <tr>\n",
       "      <th>sick_and_young</th>\n",
       "      <td>-1e+300</td>\n",
       "    </tr>\n",
       "    <tr>\n",
       "      <th>healthy_and_young</th>\n",
       "      <td>-1e+300</td>\n",
       "    </tr>\n",
       "    <tr>\n",
       "      <th rowspan=\"4\" valign=\"top\">exogenous_process_health_shock_sick_and_young</th>\n",
       "      <th>sick_and_old</th>\n",
       "      <td>-1e+300</td>\n",
       "    </tr>\n",
       "    <tr>\n",
       "      <th>healthy_and_old</th>\n",
       "      <td>-1e+300</td>\n",
       "    </tr>\n",
       "    <tr>\n",
       "      <th>sick_and_young</th>\n",
       "      <td>-1.20397</td>\n",
       "    </tr>\n",
       "    <tr>\n",
       "      <th>healthy_and_young</th>\n",
       "      <td>-0.356675</td>\n",
       "    </tr>\n",
       "    <tr>\n",
       "      <th rowspan=\"4\" valign=\"top\">exogenous_process_health_shock_healthy_and_young</th>\n",
       "      <th>sick_and_old</th>\n",
       "      <td>-1e+300</td>\n",
       "    </tr>\n",
       "    <tr>\n",
       "      <th>healthy_and_old</th>\n",
       "      <td>-1e+300</td>\n",
       "    </tr>\n",
       "    <tr>\n",
       "      <th>sick_and_young</th>\n",
       "      <td>-2.30259</td>\n",
       "    </tr>\n",
       "    <tr>\n",
       "      <th>healthy_and_young</th>\n",
       "      <td>-0.105361</td>\n",
       "    </tr>\n",
       "  </tbody>\n",
       "</table>\n",
       "</div>"
      ],
      "text/plain": [
       "                                                                       value\n",
       "category                                         name                       \n",
       "exogenous_process_health_shock_sick_and_old      sick_and_old      -0.223144\n",
       "                                                 healthy_and_old    -1.60944\n",
       "                                                 sick_and_young      -1e+300\n",
       "                                                 healthy_and_young   -1e+300\n",
       "exogenous_process_health_shock_healthy_and_old   sick_and_old      -0.510826\n",
       "                                                 healthy_and_old   -0.916291\n",
       "                                                 sick_and_young      -1e+300\n",
       "                                                 healthy_and_young   -1e+300\n",
       "exogenous_process_health_shock_sick_and_young    sick_and_old        -1e+300\n",
       "                                                 healthy_and_old     -1e+300\n",
       "                                                 sick_and_young     -1.20397\n",
       "                                                 healthy_and_young -0.356675\n",
       "exogenous_process_health_shock_healthy_and_young sick_and_old        -1e+300\n",
       "                                                 healthy_and_old     -1e+300\n",
       "                                                 sick_and_young     -2.30259\n",
       "                                                 healthy_and_young -0.105361"
      ]
     },
     "execution_count": 207,
     "metadata": {},
     "output_type": "execute_result"
    }
   ],
   "source": [
    "params"
   ]
  },
  {
   "cell_type": "code",
   "execution_count": null,
   "metadata": {},
   "outputs": [],
   "source": []
  }
 ],
 "metadata": {
  "kernelspec": {
   "display_name": "Python 3",
   "language": "python",
   "name": "python3"
  },
  "language_info": {
   "codemirror_mode": {
    "name": "ipython",
    "version": 3
   },
   "file_extension": ".py",
   "mimetype": "text/x-python",
   "name": "python",
   "nbconvert_exporter": "python",
   "pygments_lexer": "ipython3",
   "version": "3.7.6"
  }
 },
 "nbformat": 4,
 "nbformat_minor": 4
}
