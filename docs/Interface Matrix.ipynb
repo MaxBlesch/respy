{
 "cells": [
  {
   "cell_type": "code",
   "execution_count": 1,
   "metadata": {},
   "outputs": [],
   "source": [
    "import pandas as pd\n",
    "import numpy as np\n",
    "import itertools"
   ]
  },
  {
   "cell_type": "code",
   "execution_count": 2,
   "metadata": {},
   "outputs": [],
   "source": [
    "df = pd.DataFrame(\n",
    "    columns=[\"sick\", \"healthy\"],\n",
    "    index=[\"old\", \"young\"],\n",
    "    data=[[0.8, 0.2],\n",
    "         [0.6, 0.4]],\n",
    ")"
   ]
  },
  {
   "cell_type": "code",
   "execution_count": 3,
   "metadata": {
    "scrolled": true
   },
   "outputs": [
    {
     "data": {
      "text/html": [
       "<div>\n",
       "<style scoped>\n",
       "    .dataframe tbody tr th:only-of-type {\n",
       "        vertical-align: middle;\n",
       "    }\n",
       "\n",
       "    .dataframe tbody tr th {\n",
       "        vertical-align: top;\n",
       "    }\n",
       "\n",
       "    .dataframe thead th {\n",
       "        text-align: right;\n",
       "    }\n",
       "</style>\n",
       "<table border=\"1\" class=\"dataframe\">\n",
       "  <thead>\n",
       "    <tr style=\"text-align: right;\">\n",
       "      <th></th>\n",
       "      <th>sick</th>\n",
       "      <th>healthy</th>\n",
       "    </tr>\n",
       "  </thead>\n",
       "  <tbody>\n",
       "    <tr>\n",
       "      <th>old</th>\n",
       "      <td>0.8</td>\n",
       "      <td>0.2</td>\n",
       "    </tr>\n",
       "    <tr>\n",
       "      <th>young</th>\n",
       "      <td>0.6</td>\n",
       "      <td>0.4</td>\n",
       "    </tr>\n",
       "  </tbody>\n",
       "</table>\n",
       "</div>"
      ],
      "text/plain": [
       "       sick  healthy\n",
       "old     0.8      0.2\n",
       "young   0.6      0.4"
      ]
     },
     "execution_count": 3,
     "metadata": {},
     "output_type": "execute_result"
    }
   ],
   "source": [
    "df"
   ]
  },
  {
   "cell_type": "code",
   "execution_count": 10,
   "metadata": {},
   "outputs": [],
   "source": [
    "def parse_exog_process_matrix(matrix, process_name):\n",
    "    states, process_states = check_states_size(matrix)\n",
    "    covariates = create_options_entries(states, process_name, process_states)\n",
    "    transformed_matrix = transform_matrix(matrix)\n",
    "    params = create_params(transformed_matrix, states, process_name, process_states)\n",
    "    return params, covariates\n",
    "\n",
    "\n",
    "def create_params(transformed_matrix, states, process_name, process_states):\n",
    "    categories = [\n",
    "        f\"exogenous_process_{process_name}_{state}\" for state in process_states\n",
    "    ]\n",
    "    index = pd.MultiIndex.from_tuples(\n",
    "        itertools.product(categories, states), names=[\"category\", \"name\"]\n",
    "    )\n",
    "    params = pd.DataFrame(index=index, columns=[\"value\"])\n",
    "    for process_state in process_states:\n",
    "        params.loc[\n",
    "            (f\"exogenous_process_health_shock_{process_state}\", states), \"value\"\n",
    "        ] = transformed_matrix[process_state].values\n",
    "    return params\n",
    "\n",
    "    \n",
    "def transform_matrix(matrix):\n",
    "    transformed_matrix = matrix.copy()\n",
    "    transformed_matrix[transformed_matrix == 0] = -1e300\n",
    "    transformed_matrix[transformed_matrix > 0] = np.log(\n",
    "        transformed_matrix[transformed_matrix > 0]\n",
    "    )\n",
    "    transformed_matrix.index = transformed_matrix.index.map(str)\n",
    "    return transformed_matrix\n",
    "\n",
    "\n",
    "def create_options_entries(states, process_name, process_states):\n",
    "    covariates = {}\n",
    "    for state in states:\n",
    "        i = 0\n",
    "        for process_state in process_states:\n",
    "            if process_state in state:\n",
    "                destination_state = process_state\n",
    "                i += 1\n",
    "        if i == 0:\n",
    "            covariates[str(state)] = \"?\"\n",
    "        elif i == 1:\n",
    "            covariates[str(state)] = f\"{process_name} == {destination_state} & ?\"\n",
    "        else:\n",
    "            raise ValueError(f\"{state} contains more than one process state.\")\n",
    "    return covariates\n",
    "\n",
    "\n",
    "def check_states_size(matrix):\n",
    "\n",
    "    return states, process_states\n",
    "\n",
    "\n",
    "def check_numerics(matrix, n_states):\n",
    "    assert (matrix.sum(axis=1) == np.full(n_states, 1)).all()\n",
    "    assert (((matrix >= 0) & (matrix <= 1)).all()).all()"
   ]
  },
  {
   "cell_type": "code",
   "execution_count": 11,
   "metadata": {},
   "outputs": [],
   "source": [
    "params, covariates  = parse_exog_process_matrix(df, \"health_shock\")"
   ]
  },
  {
   "cell_type": "code",
   "execution_count": 12,
   "metadata": {},
   "outputs": [
    {
     "data": {
      "text/html": [
       "<div>\n",
       "<style scoped>\n",
       "    .dataframe tbody tr th:only-of-type {\n",
       "        vertical-align: middle;\n",
       "    }\n",
       "\n",
       "    .dataframe tbody tr th {\n",
       "        vertical-align: top;\n",
       "    }\n",
       "\n",
       "    .dataframe thead th {\n",
       "        text-align: right;\n",
       "    }\n",
       "</style>\n",
       "<table border=\"1\" class=\"dataframe\">\n",
       "  <thead>\n",
       "    <tr style=\"text-align: right;\">\n",
       "      <th></th>\n",
       "      <th></th>\n",
       "      <th>value</th>\n",
       "    </tr>\n",
       "    <tr>\n",
       "      <th>category</th>\n",
       "      <th>name</th>\n",
       "      <th></th>\n",
       "    </tr>\n",
       "  </thead>\n",
       "  <tbody>\n",
       "    <tr>\n",
       "      <th rowspan=\"2\" valign=\"top\">exogenous_process_health_shock_sick</th>\n",
       "      <th>old</th>\n",
       "      <td>-0.223144</td>\n",
       "    </tr>\n",
       "    <tr>\n",
       "      <th>young</th>\n",
       "      <td>-0.510826</td>\n",
       "    </tr>\n",
       "    <tr>\n",
       "      <th rowspan=\"2\" valign=\"top\">exogenous_process_health_shock_healthy</th>\n",
       "      <th>old</th>\n",
       "      <td>-1.60944</td>\n",
       "    </tr>\n",
       "    <tr>\n",
       "      <th>young</th>\n",
       "      <td>-0.916291</td>\n",
       "    </tr>\n",
       "  </tbody>\n",
       "</table>\n",
       "</div>"
      ],
      "text/plain": [
       "                                                 value\n",
       "category                               name           \n",
       "exogenous_process_health_shock_sick    old   -0.223144\n",
       "                                       young -0.510826\n",
       "exogenous_process_health_shock_healthy old    -1.60944\n",
       "                                       young -0.916291"
      ]
     },
     "execution_count": 12,
     "metadata": {},
     "output_type": "execute_result"
    }
   ],
   "source": [
    "params"
   ]
  },
  {
   "cell_type": "code",
   "execution_count": 7,
   "metadata": {},
   "outputs": [
    {
     "data": {
      "text/plain": [
       "{'old': '?', 'young': '?'}"
      ]
     },
     "execution_count": 7,
     "metadata": {},
     "output_type": "execute_result"
    }
   ],
   "source": [
    "covariates"
   ]
  },
  {
   "cell_type": "code",
   "execution_count": null,
   "metadata": {},
   "outputs": [],
   "source": []
  }
 ],
 "metadata": {
  "kernelspec": {
   "display_name": "Python 3",
   "language": "python",
   "name": "python3"
  },
  "language_info": {
   "codemirror_mode": {
    "name": "ipython",
    "version": 3
   },
   "file_extension": ".py",
   "mimetype": "text/x-python",
   "name": "python",
   "nbconvert_exporter": "python",
   "pygments_lexer": "ipython3",
   "version": "3.7.6"
  }
 },
 "nbformat": 4,
 "nbformat_minor": 4
}
