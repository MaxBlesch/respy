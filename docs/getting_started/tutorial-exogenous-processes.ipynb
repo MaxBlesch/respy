{
 "cells": [
  {
   "cell_type": "markdown",
   "metadata": {},
   "source": [
    "# Exogenous Processes\n",
    "\n",
    "Exogenous processes are used in many structural models to embed dynamic features of the data which cannot be controlled by the individual like economic conditions (Diermeier et al. (2005)), layoffs (Behrman et al. (2016)) or job offer availability (Cohen-Goldner and Eckstein (2008)). The last two examples are arguably not completely exogenous which points to the second purpose of exogenous processes: simplifying the choice set. Although there are papers explicitly modeling the desire to have a child (Todd and Wolpin (2006)), most papers treat fertility as an exogenous process starting and ending at some age or a maximum number of children (Behrman et al. (2006)).\n",
    "\n",
    "What does an exogenous process mean to the model? In models without exogenous processes the law of motion, the transition of states over periods, is deterministic. Given a state and a choice the state in the next period is certain. Exogenous processes introduce a stochastic element to the law of motion. Given a state and a choice there exist multiple states in the next period which are valid successors. The transition to one of the successors is determined by a probability which depends on the characteristics of the state.\n",
    "\n",
    "For the solution of the structural model, this means that the continuation values have to be weighted by the probabilities of the exogenous process. In the simulation, one has to sample the new values of the exogenous process in the law of motion.\n",
    "\n",
    "In the following, we will discuss three different kinds of exogenous processes.\n",
    "\n",
    "1. Processes affecting the rewards of choices (economic conditions).\n",
    "2. Processes affecting the availability of choices (job availability, retirement).\n",
    "3. Processes with increasing characteristics (children)."
   ]
  },
  {
   "cell_type": "code",
   "execution_count": 1,
   "metadata": {},
   "outputs": [],
   "source": [
    "import io\n",
    "\n",
    "import matplotlib.pyplot as plt\n",
    "import numpy as np\n",
    "import pandas as pd\n",
    "\n",
    "import respy as rp\n",
    "\n",
    "pd.set_option(\"display.max_rows\", 100)"
   ]
  },
  {
   "cell_type": "markdown",
   "metadata": {},
   "source": [
    "## 1. Processes affecting the rewards of choices\n",
    "\n",
    "We start from the basic model of the Robinson Crusoe economy. Just to reiterate, Robinson is on an island and can choose between two alternatives every period. He can either go fishing and accumulate experience to become a better fisher or stay in the hammock.\n",
    "\n",
    "We extend the basic model by representing Robinson's health with an exogenous process. For simplicity, we assume that the process has two outcomes. Robinson is either well or sick and only if he is sick, fishing is more difficult for him."
   ]
  },
  {
   "cell_type": "code",
   "execution_count": 2,
   "metadata": {},
   "outputs": [],
   "source": [
    "params, options = rp.get_example_model(\"robinson_crusoe_basic\", with_data=False)"
   ]
  },
  {
   "cell_type": "code",
   "execution_count": 3,
   "metadata": {},
   "outputs": [
    {
     "data": {
      "text/html": [
       "<div>\n",
       "<style scoped>\n",
       "    .dataframe tbody tr th:only-of-type {\n",
       "        vertical-align: middle;\n",
       "    }\n",
       "\n",
       "    .dataframe tbody tr th {\n",
       "        vertical-align: top;\n",
       "    }\n",
       "\n",
       "    .dataframe thead th {\n",
       "        text-align: right;\n",
       "    }\n",
       "</style>\n",
       "<table border=\"1\" class=\"dataframe\">\n",
       "  <thead>\n",
       "    <tr style=\"text-align: right;\">\n",
       "      <th></th>\n",
       "      <th></th>\n",
       "      <th>value</th>\n",
       "    </tr>\n",
       "    <tr>\n",
       "      <th>category</th>\n",
       "      <th>name</th>\n",
       "      <th></th>\n",
       "    </tr>\n",
       "  </thead>\n",
       "  <tbody>\n",
       "    <tr>\n",
       "      <th>delta</th>\n",
       "      <th>delta</th>\n",
       "      <td>0.95</td>\n",
       "    </tr>\n",
       "    <tr>\n",
       "      <th>wage_fishing</th>\n",
       "      <th>exp_fishing</th>\n",
       "      <td>0.10</td>\n",
       "    </tr>\n",
       "    <tr>\n",
       "      <th>nonpec_fishing</th>\n",
       "      <th>constant</th>\n",
       "      <td>-1.00</td>\n",
       "    </tr>\n",
       "    <tr>\n",
       "      <th rowspan=\"2\" valign=\"top\">nonpec_hammock</th>\n",
       "      <th>constant</th>\n",
       "      <td>2.50</td>\n",
       "    </tr>\n",
       "    <tr>\n",
       "      <th>not_fishing_last_period</th>\n",
       "      <td>-1.00</td>\n",
       "    </tr>\n",
       "    <tr>\n",
       "      <th rowspan=\"3\" valign=\"top\">shocks_sdcorr</th>\n",
       "      <th>sd_fishing</th>\n",
       "      <td>1.00</td>\n",
       "    </tr>\n",
       "    <tr>\n",
       "      <th>sd_hammock</th>\n",
       "      <td>1.00</td>\n",
       "    </tr>\n",
       "    <tr>\n",
       "      <th>corr_hammock_fishing</th>\n",
       "      <td>-0.20</td>\n",
       "    </tr>\n",
       "    <tr>\n",
       "      <th>lagged_choice_1_hammock</th>\n",
       "      <th>constant</th>\n",
       "      <td>1.00</td>\n",
       "    </tr>\n",
       "    <tr>\n",
       "      <th>inadmissibility_penalty</th>\n",
       "      <th>inadmissibility_penalty</th>\n",
       "      <td>-20.00</td>\n",
       "    </tr>\n",
       "  </tbody>\n",
       "</table>\n",
       "</div>"
      ],
      "text/plain": [
       "                                                 value\n",
       "category                name                          \n",
       "delta                   delta                     0.95\n",
       "wage_fishing            exp_fishing               0.10\n",
       "nonpec_fishing          constant                 -1.00\n",
       "nonpec_hammock          constant                  2.50\n",
       "                        not_fishing_last_period  -1.00\n",
       "shocks_sdcorr           sd_fishing                1.00\n",
       "                        sd_hammock                1.00\n",
       "                        corr_hammock_fishing     -0.20\n",
       "lagged_choice_1_hammock constant                  1.00\n",
       "inadmissibility_penalty inadmissibility_penalty -20.00"
      ]
     },
     "execution_count": 3,
     "metadata": {},
     "output_type": "execute_result"
    }
   ],
   "source": [
    "params"
   ]
  },
  {
   "cell_type": "markdown",
   "metadata": {},
   "source": [
    "First, we have to define the exogenous process. We assume that Robinson has a chance of 90% for being well in the next period and a 10% chance of being sick. Similar to the explanation on observables in [tutorial on the initial conditions](tutorial-initial-conditions.ipynb#Observables), we have to use the keyword `exogenous_process` to indicate that the following parameters belong to an exogenous process. `health` is used as the name of the exogenous process and `well` and `sick` are the potential values. With `probability` we indicate that the following value should be treated as a probability."
   ]
  },
  {
   "cell_type": "code",
   "execution_count": 4,
   "metadata": {},
   "outputs": [],
   "source": [
    "params.loc[(\"exogenous_process_health_well\", \"probability\"), \"value\"] = 0.9\n",
    "params.loc[(\"exogenous_process_health_sick\", \"probability\"), \"value\"] = 0.1"
   ]
  },
  {
   "cell_type": "markdown",
   "metadata": {},
   "source": [
    "Next, we amend the rewards and add a penalty to the working alternative fishing if Robinson is sick. We also need to add a covariate which defines what `sick` in `params` means, because, up to now, `sick` is only a potential value of the variable `health`, but not a variable itself."
   ]
  },
  {
   "cell_type": "code",
   "execution_count": 5,
   "metadata": {},
   "outputs": [],
   "source": [
    "params.loc[(\"nonpec_fishing\", \"sick\"), \"value\"] = -2"
   ]
  },
  {
   "cell_type": "code",
   "execution_count": 6,
   "metadata": {},
   "outputs": [],
   "source": [
    "options[\"covariates\"][\"sick\"] = \"health == 'sick'\""
   ]
  },
  {
   "cell_type": "markdown",
   "metadata": {},
   "source": [
    "That's it. There nothing else to be done to define the process. But before we begin to simulate data, we have to define the distribution of `health` in the first period of the simulated data. Note that, the parameters under the keyword `exogenous_process` only define the transition probabilities. The parameters are only necessary for n-step-ahead simulation with sampling as explained in this [tutorial](tutorial-simulation.ipynb#1.-n-step-ahead-simulation-with-sampling). We can do this using the `observable` keyword and use the same probabilities as the process."
   ]
  },
  {
   "cell_type": "code",
   "execution_count": 7,
   "metadata": {},
   "outputs": [],
   "source": [
    "params.loc[(\"observable_health_well\", \"probability\"), \"value\"] = 0.9\n",
    "params.loc[(\"observable_health_sick\", \"probability\"), \"value\"] = 0.1"
   ]
  },
  {
   "cell_type": "code",
   "execution_count": 8,
   "metadata": {},
   "outputs": [],
   "source": [
    "simulate = rp.get_simulate_func(params, options)"
   ]
  },
  {
   "cell_type": "code",
   "execution_count": 9,
   "metadata": {},
   "outputs": [],
   "source": [
    "df = simulate(params)"
   ]
  },
  {
   "cell_type": "markdown",
   "metadata": {},
   "source": [
    "The following figure shows that the shares of health conditions are indeed replicated in the data."
   ]
  },
  {
   "cell_type": "code",
   "execution_count": 10,
   "metadata": {},
   "outputs": [
    {
     "data": {
      "text/plain": [
       "<matplotlib.axes._subplots.AxesSubplot at 0x206b0dd9ec8>"
      ]
     },
     "execution_count": 10,
     "metadata": {},
     "output_type": "execute_result"
    },
    {
     "data": {
      "image/png": "[encoded data removed]",
      "text/plain": [
       "<Figure size 432x288 with 1 Axes>"
      ]
     },
     "metadata": {
      "needs_background": "light"
     },
     "output_type": "display_data"
    }
   ],
   "source": [
    "df[\"Health\"].value_counts(normalize=True).plot.bar(rot=0)"
   ]
  },
  {
   "cell_type": "markdown",
   "metadata": {},
   "source": [
    "Does the process affect the choices in the predicted way? The following figure shows that if Robinson is sick, choosing hammock is four times more likely than fishing."
   ]
  },
  {
   "cell_type": "code",
   "execution_count": 11,
   "metadata": {},
   "outputs": [
    {
     "data": {
      "text/plain": [
       "<matplotlib.axes._subplots.AxesSubplot at 0x206b10046c8>"
      ]
     },
     "execution_count": 11,
     "metadata": {},
     "output_type": "execute_result"
    },
    {
     "data": {
      "image/png": "[encoded data removed]",
      "text/plain": [
       "<Figure size 432x288 with 1 Axes>"
      ]
     },
     "metadata": {
      "needs_background": "light"
     },
     "output_type": "display_data"
    }
   ],
   "source": [
    "df.groupby(\"Health\")[\"Choice\"].value_counts(normalize=True).unstack().plot.bar(rot=0)"
   ]
  },
  {
   "cell_type": "markdown",
   "metadata": {},
   "source": [
    "## 2. Processes affecting the availability of choices\n",
    "\n",
    "Exogenous processes are also used to influence the choice set. As an example, let us further extend the model with an exogenous process of the weather. There is a 20% chance of a tropical storm which makes fishing impossible and an 80% chance of sunny weather which allows all activities. Note that, this process works simultaenously with the health process. There is not restriction regarding the number of exogenous processes.\n",
    "\n",
    "Firstly, implement the transition probabilities."
   ]
  },
  {
   "cell_type": "code",
   "execution_count": 12,
   "metadata": {},
   "outputs": [],
   "source": [
    "params.loc[(\"exogenous_process_weather_tropical_storm\", \"probability\"), \"value\"] = 0.2\n",
    "params.loc[(\"exogenous_process_weather_sunny\", \"probability\"), \"value\"] = 0.8"
   ]
  },
  {
   "cell_type": "markdown",
   "metadata": {},
   "source": [
    "Then, use the `inadmissible_states` setting in the `options` to indicate which choices are not available. `inadmissible_states` is a dictionary where the keys are the choices. The values are lists of conditions which prevent an individual to choose the alternative if the statement is true. All statements are connected via the logical or and not and. Here, we prevent any individual from choosing fishing if there is a tropical storm."
   ]
  },
  {
   "cell_type": "code",
   "execution_count": 13,
   "metadata": {},
   "outputs": [],
   "source": [
    "options[\"inadmissible_states\"] = {\"fishing\": [\"weather == 'tropical_storm'\"]}"
   ]
  },
  {
   "cell_type": "code",
   "execution_count": 14,
   "metadata": {},
   "outputs": [
    {
     "name": "stderr",
     "output_type": "stream",
     "text": [
      "C:\\Users\\tobia\\git\\respy\\respy\\pre_processing\\model_processing.py:204: UserWarning: The distribution of initial values for the exogenous process 'weather' is not defined in 'params'. Use the 'observable' keyword for this. This is only necessary for the n-step-ahead simulation. In the following, values are assumed to be equiprobable.\n",
      "  \"The distribution of initial values for the exogenous process \"\n"
     ]
    }
   ],
   "source": [
    "simulate = rp.get_simulate_func(params, options)"
   ]
  },
  {
   "cell_type": "markdown",
   "metadata": {},
   "source": [
    "Note that the warning is raised because we forgot to specify the distribution of `weather` in the first period."
   ]
  },
  {
   "cell_type": "code",
   "execution_count": 15,
   "metadata": {},
   "outputs": [],
   "source": [
    "df = simulate(params)"
   ]
  },
  {
   "cell_type": "markdown",
   "metadata": {},
   "source": [
    "Below we see that realizations of `weather` are indeed equiprobable in the first period."
   ]
  },
  {
   "cell_type": "code",
   "execution_count": 16,
   "metadata": {},
   "outputs": [
    {
     "data": {
      "text/plain": [
       "sunny             0.511\n",
       "tropical_storm    0.489\n",
       "Name: Weather, dtype: float64"
      ]
     },
     "execution_count": 16,
     "metadata": {},
     "output_type": "execute_result"
    }
   ],
   "source": [
    "df.query(\"Period == 0\").Weather.value_counts(normalize=True)"
   ]
  },
  {
   "cell_type": "markdown",
   "metadata": {},
   "source": [
    "We show the two figures from the health process first to show that this process has not changed."
   ]
  },
  {
   "cell_type": "code",
   "execution_count": 17,
   "metadata": {},
   "outputs": [
    {
     "data": {
      "text/plain": [
       "<matplotlib.axes._subplots.AxesSubplot at 0x206b101f288>"
      ]
     },
     "execution_count": 17,
     "metadata": {},
     "output_type": "execute_result"
    },
    {
     "data": {
      "image/png": "[encoded data removed]",
      "text/plain": [
       "<Figure size 576x288 with 2 Axes>"
      ]
     },
     "metadata": {
      "needs_background": "light"
     },
     "output_type": "display_data"
    }
   ],
   "source": [
    "fig, axs = plt.subplots(1, 2, figsize=(8, 4))\n",
    "\n",
    "df[\"Health\"].value_counts(normalize=True).plot.bar(ax=axs[0], rot=0)\n",
    "df.groupby(\"Health\")[\"Choice\"].value_counts(normalize=True).unstack().plot.bar(\n",
    "    ax=axs[1], rot=0\n",
    ")"
   ]
  },
  {
   "cell_type": "markdown",
   "metadata": {},
   "source": [
    "Secondly, we show the distribution of choices across weather conditions."
   ]
  },
  {
   "cell_type": "code",
   "execution_count": 18,
   "metadata": {},
   "outputs": [
    {
     "data": {
      "text/plain": [
       "<matplotlib.axes._subplots.AxesSubplot at 0x206b0e1cd08>"
      ]
     },
     "execution_count": 18,
     "metadata": {},
     "output_type": "execute_result"
    },
    {
     "data": {
      "image/png": "[encoded data removed]",
      "text/plain": [
       "<Figure size 432x288 with 1 Axes>"
      ]
     },
     "metadata": {
      "needs_background": "light"
     },
     "output_type": "display_data"
    }
   ],
   "source": [
    "df.groupby(\"Weather\")[\"Choice\"].value_counts(normalize=True).unstack().plot.bar(rot=0)"
   ]
  },
  {
   "cell_type": "markdown",
   "metadata": {},
   "source": [
    "## 3. Processes with increasing characteristics\n",
    "\n",
    "At last, we implement a more complex exogenous process which can be used to model the desire to have a child instead of including it in the choice set. As this feature is frequently used in structural models analyzing female labor force participation (Behrman et al. (2016), Blundell et al. (2016)), we focus on Robin Kreutzner, Robinson's half sister, who shares the same father, a Bremen merchant. She lives in York during the 17th century and works in a weaving mill. Starting with the age of 20, there is a chance that Robin becomes pregnant and gives birth to one or two children in one period for the following 30 periods. As child care is extremely underdeveloped at that time and her mother cannot take care of the children every time, working at the weaving mill becomes more difficult for her with every child.\n",
    "\n",
    "The main difference of such a process in contrast to others is that in each state not all potential values of the process are available. We assume that the number of children can only increase, meaning there is no child death. Although singleton pregancies are the most common form of pregancies, we also allow for twins with a very small probability.\n",
    "\n",
    "The following cell contains the basic parameterization of the model. There is one working alternative, `weaving`, and one non-working alternative, `home`."
   ]
  },
  {
   "cell_type": "code",
   "execution_count": 19,
   "metadata": {},
   "outputs": [],
   "source": [
    "params = pd.read_csv(\n",
    "    io.StringIO(\n",
    "        \"\"\"\n",
    "category,name,value\n",
    "delta,delta,0.95\n",
    "wage_weaving,exp_weaving,0.1\n",
    "nonpec_weaving,constant,-1\n",
    "nonpec_weaving,children,-5\n",
    "nonpec_home,constant,2.5\n",
    "shocks_sdcorr,sd_weaving,1\n",
    "shocks_sdcorr,sd_home,1\n",
    "shocks_sdcorr,corr_home_weaving,-0.2\n",
    "\"\"\"\n",
    "    ),\n",
    "    index_col=[\"category\", \"name\"],\n",
    ")\n",
    "\n",
    "options = {\n",
    "    \"n_periods\": 30,\n",
    "    \"covariates\": {\"constant\": \"1\"},\n",
    "}"
   ]
  },
  {
   "cell_type": "markdown",
   "metadata": {},
   "source": [
    "Next, we will define the process for this very artificial example. The main reason why the following distribution is so complex is that the process has to be defined going from a certain number of children to another number of children. Note that, all parameters are coefficients of an multinomial logit as explained in the [tutorial on the initial conditions](tutorial-initial-conditions.ipynb#Lagged-Choices).\n",
    "\n",
    "The general idea for the transition probabilities is as follows:\n",
    "\n",
    "- The number of children cannot reduce.\n",
    "- Up to the third child, there is a ...\n",
    "  - 90% chance of having no additional child\n",
    "  - 9% chance of having one additional child\n",
    "  - 1% chance of having two additional children\n",
    "  \n",
    "  ... in the next period.\n",
    "- Beyond the third child, there is a ...\n",
    "  - 98% chance of having no additional child\n",
    "  - 1.9% chance of having one additional child\n",
    "  - 0.1% chance of having two additional children\n",
    "  \n",
    "  ... in the next period.\n",
    "- No one has more than six children.\n",
    "\n",
    "Let us take a look at the first set of parameters. Under `exogenous_process_children_0` we specify the transition probabilities from any state with any number of children to a state with no children at all. The first parameter `has_children` adds a huge negative penalty in case the state has children. Thus, the transition probability from any state with children to a state with zero children is zero. For states with zero children, we want to have a 90% chance of having no children in the next period as well. Thus, we use $\\log 0.9 \\approx -1.05$ as the parameter value. (The trick is also explained in the tutorial.)"
   ]
  },
  {
   "cell_type": "code",
   "execution_count": 20,
   "metadata": {},
   "outputs": [],
   "source": [
    "params.loc[(\"exogenous_process_children_0\", \"no_children\"), \"value\"] = -0.105\n",
    "params.loc[(\"exogenous_process_children_0\", \"has_children\"), \"value\"] = -1e300"
   ]
  },
  {
   "cell_type": "markdown",
   "metadata": {},
   "source": [
    "To define the transition to having one child, we use $-2.408 \\approx \\log 0.09$ as the parameter for a state with no children. $-0.105 \\approx \\log 0.9$ ensures that with 90% chance, there is no additional child for states with already one child. The huge penalty for `more_than_one_child` ensures that there is no backward motion."
   ]
  },
  {
   "cell_type": "code",
   "execution_count": 21,
   "metadata": {},
   "outputs": [],
   "source": [
    "params.loc[(\"exogenous_process_children_1\", \"no_children\"), \"value\"] = -2.408\n",
    "params.loc[(\"exogenous_process_children_1\", \"one_child\"), \"value\"] = -0.105\n",
    "params.loc[(\"exogenous_process_children_1\", \"more_than_one_child\"), \"value\"] = -1e300"
   ]
  },
  {
   "cell_type": "markdown",
   "metadata": {},
   "source": [
    "Next, we define the transition to states with two children. The majority of the parameters is analogously defined to the former explanations. But, note that the first parameter specifies the transition from states with no children to states with two children and therefore the possibility of having twins. The parameter value is $-4.605 = \\log 0.01$."
   ]
  },
  {
   "cell_type": "code",
   "execution_count": 22,
   "metadata": {},
   "outputs": [],
   "source": [
    "params.loc[(\"exogenous_process_children_2\", \"no_children\"), \"value\"] = -4.605\n",
    "params.loc[(\"exogenous_process_children_2\", \"one_child\"), \"value\"] = -2.408\n",
    "params.loc[(\"exogenous_process_children_2\", \"two_children\"), \"value\"] = -0.105\n",
    "params.loc[(\"exogenous_process_children_2\", \"more_than_two_children\"), \"value\"] = -1e300\n",
    "\n",
    "params.loc[(\"exogenous_process_children_3\", \"no_children\"), \"value\"] = -1e300\n",
    "params.loc[(\"exogenous_process_children_3\", \"one_child\"), \"value\"] = -4.605\n",
    "params.loc[(\"exogenous_process_children_3\", \"two_children\"), \"value\"] = -2.408\n",
    "params.loc[(\"exogenous_process_children_3\", \"three_children\"), \"value\"] = -0.105\n",
    "params.loc[\n",
    "    (\"exogenous_process_children_3\", \"more_than_three_children\"), \"value\"\n",
    "] = -1e300"
   ]
  },
  {
   "cell_type": "markdown",
   "metadata": {},
   "source": [
    "As discussed before the transition probabilities to states with at least four children change."
   ]
  },
  {
   "cell_type": "code",
   "execution_count": 23,
   "metadata": {},
   "outputs": [],
   "source": [
    "params.loc[(\"exogenous_process_children_4\", \"less_than_two_children\"), \"value\"] = -1e300\n",
    "params.loc[(\"exogenous_process_children_4\", \"two_children\"), \"value\"] = -6.908\n",
    "params.loc[(\"exogenous_process_children_4\", \"three_children\"), \"value\"] = -3.963\n",
    "params.loc[(\"exogenous_process_children_4\", \"four_children\"), \"value\"] = -0.02\n",
    "params.loc[\n",
    "    (\"exogenous_process_children_4\", \"more_than_four_children\"), \"value\"\n",
    "] = -1e300\n",
    "\n",
    "params.loc[\n",
    "    (\"exogenous_process_children_5\", \"less_than_three_children\"), \"value\"\n",
    "] = -1e300\n",
    "params.loc[(\"exogenous_process_children_5\", \"three_children\"), \"value\"] = -6.908\n",
    "params.loc[(\"exogenous_process_children_5\", \"four_children\"), \"value\"] = -3.963\n",
    "params.loc[(\"exogenous_process_children_5\", \"five_children\"), \"value\"] = -0.02\n",
    "params.loc[(\"exogenous_process_children_5\", \"six_children\"), \"value\"] = -1e300\n",
    "\n",
    "params.loc[\n",
    "    (\"exogenous_process_children_6\", \"less_than_four_children\"), \"value\"\n",
    "] = -1e300\n",
    "params.loc[(\"exogenous_process_children_6\", \"four_children\"), \"value\"] = -6.908\n",
    "params.loc[(\"exogenous_process_children_6\", \"five_children\"), \"value\"] = -3.963"
   ]
  },
  {
   "cell_type": "markdown",
   "metadata": {},
   "source": [
    "At last, we need to specify that all Robins start with no children."
   ]
  },
  {
   "cell_type": "code",
   "execution_count": 24,
   "metadata": {},
   "outputs": [],
   "source": [
    "params.loc[(\"observable_children_0\", \"probability\"), \"value\"] = 1\n",
    "params.loc[(\"observable_children_1\", \"probability\"), \"value\"] = 0\n",
    "params.loc[(\"observable_children_2\", \"probability\"), \"value\"] = 0\n",
    "params.loc[(\"observable_children_3\", \"probability\"), \"value\"] = 0\n",
    "params.loc[(\"observable_children_4\", \"probability\"), \"value\"] = 0\n",
    "params.loc[(\"observable_children_5\", \"probability\"), \"value\"] = 0\n",
    "params.loc[(\"observable_children_6\", \"probability\"), \"value\"] = 0"
   ]
  },
  {
   "cell_type": "markdown",
   "metadata": {},
   "source": [
    "The many covariates are defined here and added to the `options` of the model."
   ]
  },
  {
   "cell_type": "code",
   "execution_count": 25,
   "metadata": {},
   "outputs": [],
   "source": [
    "options[\"covariates\"].update(\n",
    "    {\n",
    "        \"no_children\": \"children == 0\",\n",
    "        \"has_children\": \"children > 0\",\n",
    "        \"one_child\": \"children == 1\",\n",
    "        \"more_than_one_child\": \"children > 1\",\n",
    "        \"two_children\": \"children == 2\",\n",
    "        \"less_than_two_children\": \"children < 2\",\n",
    "        \"more_than_two_children\": \"children > 2\",\n",
    "        \"three_children\": \"children == 3\",\n",
    "        \"less_than_three_children\": \"children < 3\",\n",
    "        \"more_than_three_children\": \"children > 3\",\n",
    "        \"four_children\": \"children == 4\",\n",
    "        \"less_than_four_children\": \"children < 4\",\n",
    "        \"more_than_four_children\": \"children > 4\",\n",
    "        \"five_children\": \"children == 5\",\n",
    "        \"six_children\": \"children == 6\",\n",
    "    }\n",
    ")"
   ]
  },
  {
   "cell_type": "markdown",
   "metadata": {},
   "source": [
    "Let us simulate the data!"
   ]
  },
  {
   "cell_type": "code",
   "execution_count": 26,
   "metadata": {},
   "outputs": [],
   "source": [
    "simulate = rp.get_simulate_func(params, options)\n",
    "df = simulate(params)"
   ]
  },
  {
   "cell_type": "markdown",
   "metadata": {},
   "source": [
    "Firstly, we take a look at the final distribution of children in the last period."
   ]
  },
  {
   "cell_type": "code",
   "execution_count": 27,
   "metadata": {},
   "outputs": [
    {
     "data": {
      "text/plain": [
       "<matplotlib.axes._subplots.AxesSubplot at 0x206b0d1ee48>"
      ]
     },
     "execution_count": 27,
     "metadata": {},
     "output_type": "execute_result"
    },
    {
     "data": {
      "image/png": "[encoded data removed]",
      "text/plain": [
       "<Figure size 432x288 with 1 Axes>"
      ]
     },
     "metadata": {
      "needs_background": "light"
     },
     "output_type": "display_data"
    }
   ],
   "source": [
    "df.query(\"Period == Period.max()\").Children.value_counts(\n",
    "    normalize=True\n",
    ").sort_index().plot.bar()"
   ]
  },
  {
   "cell_type": "markdown",
   "metadata": {},
   "source": [
    "Secondly, we take a look at the transitions from the previous number of children to the value in the next period."
   ]
  },
  {
   "cell_type": "code",
   "execution_count": 28,
   "metadata": {},
   "outputs": [
    {
     "data": {
      "text/html": [
       "<div>\n",
       "<style scoped>\n",
       "    .dataframe tbody tr th:only-of-type {\n",
       "        vertical-align: middle;\n",
       "    }\n",
       "\n",
       "    .dataframe tbody tr th {\n",
       "        vertical-align: top;\n",
       "    }\n",
       "\n",
       "    .dataframe thead th {\n",
       "        text-align: right;\n",
       "    }\n",
       "</style>\n",
       "<table border=\"1\" class=\"dataframe\">\n",
       "  <thead>\n",
       "    <tr style=\"text-align: right;\">\n",
       "      <th>Children</th>\n",
       "      <th>0</th>\n",
       "      <th>1</th>\n",
       "      <th>2</th>\n",
       "      <th>3</th>\n",
       "      <th>4</th>\n",
       "      <th>5</th>\n",
       "      <th>6</th>\n",
       "    </tr>\n",
       "    <tr>\n",
       "      <th>Prev_Children</th>\n",
       "      <th></th>\n",
       "      <th></th>\n",
       "      <th></th>\n",
       "      <th></th>\n",
       "      <th></th>\n",
       "      <th></th>\n",
       "      <th></th>\n",
       "    </tr>\n",
       "  </thead>\n",
       "  <tbody>\n",
       "    <tr>\n",
       "      <th>0.0</th>\n",
       "      <td>8625</td>\n",
       "      <td>855</td>\n",
       "      <td>93</td>\n",
       "      <td>0</td>\n",
       "      <td>0</td>\n",
       "      <td>0</td>\n",
       "      <td>0</td>\n",
       "    </tr>\n",
       "    <tr>\n",
       "      <th>1.0</th>\n",
       "      <td>0</td>\n",
       "      <td>6593</td>\n",
       "      <td>654</td>\n",
       "      <td>73</td>\n",
       "      <td>0</td>\n",
       "      <td>0</td>\n",
       "      <td>0</td>\n",
       "    </tr>\n",
       "    <tr>\n",
       "      <th>2.0</th>\n",
       "      <td>0</td>\n",
       "      <td>0</td>\n",
       "      <td>5119</td>\n",
       "      <td>513</td>\n",
       "      <td>5</td>\n",
       "      <td>0</td>\n",
       "      <td>0</td>\n",
       "    </tr>\n",
       "    <tr>\n",
       "      <th>3.0</th>\n",
       "      <td>0</td>\n",
       "      <td>0</td>\n",
       "      <td>0</td>\n",
       "      <td>5420</td>\n",
       "      <td>109</td>\n",
       "      <td>5</td>\n",
       "      <td>0</td>\n",
       "    </tr>\n",
       "    <tr>\n",
       "      <th>4.0</th>\n",
       "      <td>0</td>\n",
       "      <td>0</td>\n",
       "      <td>0</td>\n",
       "      <td>0</td>\n",
       "      <td>819</td>\n",
       "      <td>14</td>\n",
       "      <td>0</td>\n",
       "    </tr>\n",
       "    <tr>\n",
       "      <th>5.0</th>\n",
       "      <td>0</td>\n",
       "      <td>0</td>\n",
       "      <td>0</td>\n",
       "      <td>0</td>\n",
       "      <td>0</td>\n",
       "      <td>101</td>\n",
       "      <td>1</td>\n",
       "    </tr>\n",
       "    <tr>\n",
       "      <th>6.0</th>\n",
       "      <td>0</td>\n",
       "      <td>0</td>\n",
       "      <td>0</td>\n",
       "      <td>0</td>\n",
       "      <td>0</td>\n",
       "      <td>0</td>\n",
       "      <td>1</td>\n",
       "    </tr>\n",
       "  </tbody>\n",
       "</table>\n",
       "</div>"
      ],
      "text/plain": [
       "Children          0     1     2     3    4    5  6\n",
       "Prev_Children                                     \n",
       "0.0            8625   855    93     0    0    0  0\n",
       "1.0               0  6593   654    73    0    0  0\n",
       "2.0               0     0  5119   513    5    0  0\n",
       "3.0               0     0     0  5420  109    5  0\n",
       "4.0               0     0     0     0  819   14  0\n",
       "5.0               0     0     0     0    0  101  1\n",
       "6.0               0     0     0     0    0    0  1"
      ]
     },
     "execution_count": 28,
     "metadata": {},
     "output_type": "execute_result"
    }
   ],
   "source": [
    "df[\"Prev_Children\"] = df.groupby(\"Identifier\")[\"Children\"].transform(\"shift\")\n",
    "pd.crosstab(df.Prev_Children, df.Children)"
   ]
  },
  {
   "cell_type": "markdown",
   "metadata": {},
   "source": [
    "At last, we plot the choice probabilities versus the number of children. As expected, a higher number of children is correlated with choosing `home` because of the penalty in the non-pecuniary rewards of `weaving`."
   ]
  },
  {
   "cell_type": "code",
   "execution_count": 29,
   "metadata": {},
   "outputs": [
    {
     "data": {
      "text/plain": [
       "<matplotlib.axes._subplots.AxesSubplot at 0x206b1241348>"
      ]
     },
     "execution_count": 29,
     "metadata": {},
     "output_type": "execute_result"
    },
    {
     "data": {
      "image/png": "[encoded data removed]",
      "text/plain": [
       "<Figure size 432x288 with 1 Axes>"
      ]
     },
     "metadata": {
      "needs_background": "light"
     },
     "output_type": "display_data"
    }
   ],
   "source": [
    "df.groupby(\"Children\")[\"Choice\"].value_counts(normalize=True).unstack().plot.bar()"
   ]
  },
  {
   "cell_type": "markdown",
   "metadata": {},
   "source": [
    "## Notes for the estimation\n",
    "\n",
    "The example for the exogenous process for children required many parameters which are not directly suited for estimation. Part of the parameters, the penalties, only exist to give structure to the process and turn a general exogenous process where all values are accessible all the time to an incrementing process. During the estimation of the model, these parameters should be fixed such that the optimizer does not accidentally redefine the process.\n",
    "\n",
    "Another part of the parameters is repetitive for the groups up to three children and beyond. If the parameters should have the same value, use `estimagic`'s [equality constraints](https://estimagic.readthedocs.io/en/latest/optimization/constraints/constraints.html#equality-constraints). This ensures that the optimizer only sees one parameter instead of all similar parameters."
   ]
  },
  {
   "cell_type": "markdown",
   "metadata": {},
   "source": [
    "## References\n",
    "\n",
    "> Behrman, J. R., Tincani, M. M., Todd, P. E., & Wolpin, K. I. (2016). [Teacher quality in public and private schools under a voucher system: The case of Chile.](https://scholarship.rice.edu/bitstream/handle/1911/94185/Teacher-Quality-Chile.pdf) *Journal of Labor Economics, 34*(2), 319-362.\n",
    "\n",
    "> Blundell, R., Costa Dias, M., Meghir, C., & Shaw, J. (2016). [Female labor supply, human capital, and welfare reform.](https://www.nber.org/papers/w19007.pdf) *Econometrica, 84*(5), 1705-1753.\n",
    "\n",
    "> Cohen‐Goldner, S., & Eckstein, Z. (2008). [Labor mobility of immigrants: Training, experience, language, and opportunities.](https://www.econstor.eu/bitstream/10419/21422/1/dp519.pdf) *International Economic Review, 49*(3), 837-872.\n",
    "\n",
    "> Diermeier, D., Keane, M., & Merlo, A. (2005). [A political economy model of congressional careers.](https://www.econstor.eu/bitstream/10419/31182/1/586098267.PDF) *American Economic Review, 95*(1), 347-373.\n",
    "\n",
    "> Todd, P. E., & Wolpin, K. I. (2006). [Assessing the impact of a school subsidy program in Mexico: Using a social experiment to validate a dynamic behavioral model of child schooling and fertility.](https://pdfs.semanticscholar.org/5176/d1142bee77741599114ca4f661ddfa5c5101.pdf) *American economic review, 96*(5), 1384-1417."
   ]
  }
 ],
 "metadata": {
  "kernelspec": {
   "display_name": "Python 3",
   "language": "python",
   "name": "python3"
  },
  "language_info": {
   "codemirror_mode": {
    "name": "ipython",
    "version": 3
   },
   "file_extension": ".py",
   "mimetype": "text/x-python",
   "name": "python",
   "nbconvert_exporter": "python",
   "pygments_lexer": "ipython3",
   "version": "3.7.6"
  }
 },
 "nbformat": 4,
 "nbformat_minor": 4
}
