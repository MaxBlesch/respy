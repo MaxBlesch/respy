{
 "cells": [
  {
   "cell_type": "markdown",
   "metadata": {},
   "source": [
    "# Introduction"
   ]
  },
  {
   "cell_type": "markdown",
   "metadata": {},
   "source": [
    "This notebook contains a tutorial on how to use transition matrices of exogenous processes in respy. The corresponding function in respy is `parse_transition_matrix_for_exogenous_processes`. It translates a transition matrix to the specification files `params`and `options` used in respy."
   ]
  },
  {
   "cell_type": "code",
   "execution_count": 3,
   "metadata": {},
   "outputs": [],
   "source": [
    "from respy import parse_transition_matrix_for_exogenous_processes\n",
    "import pandas as pd"
   ]
  },
  {
   "cell_type": "markdown",
   "metadata": {},
   "source": [
    "This notebook contains three showcases. A exogenous process wit probabilities depending *only* on the current state of the process, a process depending on a combination of general state variables and the current state of the process and one process only depending on general state variables and not the current state of the process.\n",
    "\n",
    "The case of an exogenous process with constants probabilities across states is quite easy and explained in the general tutorial on exogenous processes. The distinction of this tutorial is the use of transition matrices. A general specification of also complex exogenous processes depending on logit coefficients instead of probabilities are also included in the general tutorial on exogenous processes.\n",
    "\n",
    "To fully understand this tutorial it is advised to first study the general tutorial on exogenous processes."
   ]
  },
  {
   "cell_type": "markdown",
   "metadata": {},
   "source": [
    "# Transition matrices\n",
    "\n",
    "In a first step, the three transition matrices are specified. Throughout this tutorial, the exogenous process used for demonstration, will be th one of a `health_shock`. We assume two states of the process: `healthy` and `sick`."
   ]
  },
  {
   "cell_type": "code",
   "execution_count": 4,
   "metadata": {},
   "outputs": [],
   "source": [
    "process_name = \"health_shock\"\n",
    "process_states = [\"healthy\", \"sick\"]"
   ]
  },
  {
   "cell_type": "markdown",
   "metadata": {},
   "source": [
    "Now the three transition matrices are defined:"
   ]
  },
  {
   "cell_type": "code",
   "execution_count": 2,
   "metadata": {},
   "outputs": [
    {
     "ename": "NameError",
     "evalue": "name 'pd' is not defined",
     "output_type": "error",
     "traceback": [
      "\u001b[0;31m---------------------------------------------------------------------------\u001b[0m",
      "\u001b[0;31mNameError\u001b[0m                                 Traceback (most recent call last)",
      "\u001b[0;32m<ipython-input-2-a4bd241e3cb5>\u001b[0m in \u001b[0;36m<module>\u001b[0;34m\u001b[0m\n\u001b[0;32m----> 1\u001b[0;31m df = pd.DataFrame(\n\u001b[0m\u001b[1;32m      2\u001b[0m     \u001b[0mcolumns\u001b[0m\u001b[0;34m=\u001b[0m\u001b[0;34m[\u001b[0m\u001b[0;34m\"sick\"\u001b[0m\u001b[0;34m,\u001b[0m \u001b[0;34m\"healthy\"\u001b[0m\u001b[0;34m]\u001b[0m\u001b[0;34m,\u001b[0m\u001b[0;34m\u001b[0m\u001b[0;34m\u001b[0m\u001b[0m\n\u001b[1;32m      3\u001b[0m     \u001b[0mindex\u001b[0m\u001b[0;34m=\u001b[0m\u001b[0;34m[\u001b[0m\u001b[0;34m\"old\"\u001b[0m\u001b[0;34m,\u001b[0m \u001b[0;34m\"young\"\u001b[0m\u001b[0;34m]\u001b[0m\u001b[0;34m,\u001b[0m\u001b[0;34m\u001b[0m\u001b[0;34m\u001b[0m\u001b[0m\n\u001b[1;32m      4\u001b[0m     data=[[0.8, 0.2],\n\u001b[1;32m      5\u001b[0m          [0.6, 0.4]],\n",
      "\u001b[0;31mNameError\u001b[0m: name 'pd' is not defined"
     ]
    }
   ],
   "source": [
    "# \n",
    "df = pd.DataFrame(\n",
    "    columns=[\"sick\", \"healthy\"],\n",
    "    index=[\"old\", \"young\"],\n",
    "    data=[[0.8, 0.2],\n",
    "         [0.6, 0.4]],\n",
    ")"
   ]
  },
  {
   "cell_type": "code",
   "execution_count": 4,
   "metadata": {
    "scrolled": true
   },
   "outputs": [
    {
     "data": {
      "text/html": [
       "<div>\n",
       "<style scoped>\n",
       "    .dataframe tbody tr th:only-of-type {\n",
       "        vertical-align: middle;\n",
       "    }\n",
       "\n",
       "    .dataframe tbody tr th {\n",
       "        vertical-align: top;\n",
       "    }\n",
       "\n",
       "    .dataframe thead th {\n",
       "        text-align: right;\n",
       "    }\n",
       "</style>\n",
       "<table border=\"1\" class=\"dataframe\">\n",
       "  <thead>\n",
       "    <tr style=\"text-align: right;\">\n",
       "      <th></th>\n",
       "      <th>sick</th>\n",
       "      <th>healthy</th>\n",
       "    </tr>\n",
       "  </thead>\n",
       "  <tbody>\n",
       "    <tr>\n",
       "      <th>old</th>\n",
       "      <td>0.8</td>\n",
       "      <td>0.2</td>\n",
       "    </tr>\n",
       "    <tr>\n",
       "      <th>young</th>\n",
       "      <td>0.6</td>\n",
       "      <td>0.4</td>\n",
       "    </tr>\n",
       "  </tbody>\n",
       "</table>\n",
       "</div>"
      ],
      "text/plain": [
       "       sick  healthy\n",
       "old     0.8      0.2\n",
       "young   0.6      0.4"
      ]
     },
     "execution_count": 4,
     "metadata": {},
     "output_type": "execute_result"
    }
   ],
   "source": [
    "df"
   ]
  },
  {
   "cell_type": "code",
   "execution_count": 5,
   "metadata": {},
   "outputs": [],
   "source": [
    "def parse_exog_process_matrix(matrix, process_name):\n",
    "    states, process_states = check_states_size(matrix)\n",
    "    covariates = create_options_entries(states, process_name, process_states)\n",
    "    transformed_matrix = _transform_matrix(matrix)\n",
    "    params = _create_params(transformed_matrix, states, process_name, process_states)\n",
    "    return params, covariates\n",
    "\n",
    "\n",
    "def _create_params(transformed_matrix, states, process_name, process_states):\n",
    "    categories = [\n",
    "        f\"exogenous_process_{process_name}_{state}\" for state in process_states\n",
    "    ]\n",
    "    index = pd.MultiIndex.from_tuples(\n",
    "        itertools.product(categories, states), names=[\"category\", \"name\"]\n",
    "    )\n",
    "    params = pd.DataFrame(index=index, columns=[\"value\"])\n",
    "    for process_state in process_states:\n",
    "        params.loc[\n",
    "            (f\"exogenous_process_health_shock_{process_state}\", states), \"value\"\n",
    "        ] = transformed_matrix[process_state].values\n",
    "    return params\n",
    "\n",
    "    \n",
    "def _transform_matrix(matrix):\n",
    "    transformed_matrix = matrix.copy()\n",
    "    transformed_matrix[transformed_matrix == 0] = -1e300\n",
    "    transformed_matrix[transformed_matrix > 0] = np.log(\n",
    "        transformed_matrix[transformed_matrix > 0]\n",
    "    )\n",
    "    transformed_matrix.index = transformed_matrix.index.map(str)\n",
    "    return transformed_matrix\n",
    "\n",
    "\n",
    "def create_options_entries(states, process_name, process_states):\n",
    "    covariates = {}\n",
    "    for state in states:\n",
    "        i = 0\n",
    "        for process_state in process_states:\n",
    "            if process_state in state:\n",
    "                destination_state = process_state\n",
    "                i += 1\n",
    "        if i == 0:\n",
    "            covariates[str(state)] = \"?\"\n",
    "        elif i == 1:\n",
    "            covariates[str(state)] = f\"{process_name} == {destination_state} & ?\"\n",
    "        else:\n",
    "            raise ValueError(f\"{state} contains more than one process state.\")\n",
    "    return covariates\n",
    "\n",
    "\n",
    "def check_states_size(matrix):\n",
    "\n",
    "    return states, process_states\n",
    "\n",
    "\n",
    "def _check_numerics(matrix, n_states):\n",
    "    assert (matrix.sum(axis=1) == np.full(n_states, 1)).all()\n",
    "    assert (((matrix >= 0) & (matrix <= 1)).all()).all()"
   ]
  }
 ],
 "metadata": {
  "kernelspec": {
   "display_name": "Python 3",
   "language": "python",
   "name": "python3"
  },
  "language_info": {
   "codemirror_mode": {
    "name": "ipython",
    "version": 3
   },
   "file_extension": ".py",
   "mimetype": "text/x-python",
   "name": "python",
   "nbconvert_exporter": "python",
   "pygments_lexer": "ipython3",
   "version": "3.7.6"
  }
 },
 "nbformat": 4,
 "nbformat_minor": 4
}
