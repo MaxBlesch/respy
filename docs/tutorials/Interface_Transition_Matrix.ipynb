{
 "cells": [
  {
   "cell_type": "markdown",
   "metadata": {},
   "source": [
    "# Introduction"
   ]
  },
  {
   "cell_type": "markdown",
   "metadata": {},
   "source": [
    "This notebook contains a tutorial on how to use transition matrices of exogenous processes in respy. The corresponding function in respy is `parse_transition_matrix_for_exogenous_processes`. It translates a transition matrix to the specification files `params`and `options` used in respy."
   ]
  },
  {
   "cell_type": "code",
   "execution_count": 1,
   "metadata": {},
   "outputs": [],
   "source": [
    "from respy import parse_transition_matrix_for_exogenous_processes\n",
    "import pandas as pd"
   ]
  },
  {
   "cell_type": "markdown",
   "metadata": {},
   "source": [
    "This notebook contains three showcases. A exogenous process wit probabilities depending *only* on the current state of the process, a process depending on a combination of general state variables and the current state of the process and one process only depending on general state variables and not the current state of the process.\n",
    "\n",
    "The case of an exogenous process with constants probabilities across states is quite easy and explained in the general tutorial on exogenous processes. The distinction of this tutorial is the use of transition matrices. A general specification of also complex exogenous processes depending on logit coefficients instead of probabilities are also included in the general tutorial on exogenous processes.\n",
    "\n",
    "To fully understand this tutorial it is advised to first study the general tutorial on exogenous processes."
   ]
  },
  {
   "cell_type": "markdown",
   "metadata": {},
   "source": [
    "# Transition matrices\n",
    "\n",
    "In a first step, the three transition matrices are specified. Throughout this tutorial, the exogenous process used for demonstration, will be th one of a `health_shock`. We assume two states of the process: `healthy` and `sick`."
   ]
  },
  {
   "cell_type": "code",
   "execution_count": 2,
   "metadata": {},
   "outputs": [],
   "source": [
    "process_name = \"health_shock\"\n",
    "process_states = [\"healthy\", \"sick\"]"
   ]
  },
  {
   "cell_type": "markdown",
   "metadata": {},
   "source": [
    "Now the three transition matrices are defined:"
   ]
  },
  {
   "cell_type": "code",
   "execution_count": 3,
   "metadata": {},
   "outputs": [
    {
     "data": {
      "text/html": [
       "<div>\n",
       "<style scoped>\n",
       "    .dataframe tbody tr th:only-of-type {\n",
       "        vertical-align: middle;\n",
       "    }\n",
       "\n",
       "    .dataframe tbody tr th {\n",
       "        vertical-align: top;\n",
       "    }\n",
       "\n",
       "    .dataframe thead th {\n",
       "        text-align: right;\n",
       "    }\n",
       "</style>\n",
       "<table border=\"1\" class=\"dataframe\">\n",
       "  <thead>\n",
       "    <tr style=\"text-align: right;\">\n",
       "      <th></th>\n",
       "      <th>healthy</th>\n",
       "      <th>sick</th>\n",
       "    </tr>\n",
       "  </thead>\n",
       "  <tbody>\n",
       "    <tr>\n",
       "      <th>sick</th>\n",
       "      <td>0.8</td>\n",
       "      <td>0.2</td>\n",
       "    </tr>\n",
       "    <tr>\n",
       "      <th>healthy</th>\n",
       "      <td>0.6</td>\n",
       "      <td>0.4</td>\n",
       "    </tr>\n",
       "  </tbody>\n",
       "</table>\n",
       "</div>"
      ],
      "text/plain": [
       "         healthy  sick\n",
       "sick         0.8   0.2\n",
       "healthy      0.6   0.4"
      ]
     },
     "execution_count": 3,
     "metadata": {},
     "output_type": "execute_result"
    }
   ],
   "source": [
    "# First the process is only dependent on the current state of the exogenous process\n",
    "df_only_process = pd.DataFrame(\n",
    "    columns=process_states,\n",
    "    index=[\"sick\", \"healthy\"],\n",
    "    data=[[0.8, 0.2],\n",
    "         [0.6, 0.4]],\n",
    ")\n",
    "df_only_process"
   ]
  },
  {
   "cell_type": "code",
   "execution_count": 4,
   "metadata": {
    "scrolled": true
   },
   "outputs": [
    {
     "data": {
      "text/html": [
       "<div>\n",
       "<style scoped>\n",
       "    .dataframe tbody tr th:only-of-type {\n",
       "        vertical-align: middle;\n",
       "    }\n",
       "\n",
       "    .dataframe tbody tr th {\n",
       "        vertical-align: top;\n",
       "    }\n",
       "\n",
       "    .dataframe thead th {\n",
       "        text-align: right;\n",
       "    }\n",
       "</style>\n",
       "<table border=\"1\" class=\"dataframe\">\n",
       "  <thead>\n",
       "    <tr style=\"text-align: right;\">\n",
       "      <th></th>\n",
       "      <th>healthy</th>\n",
       "      <th>sick</th>\n",
       "    </tr>\n",
       "  </thead>\n",
       "  <tbody>\n",
       "    <tr>\n",
       "      <th>old</th>\n",
       "      <td>0.8</td>\n",
       "      <td>0.2</td>\n",
       "    </tr>\n",
       "    <tr>\n",
       "      <th>young</th>\n",
       "      <td>0.6</td>\n",
       "      <td>0.4</td>\n",
       "    </tr>\n",
       "  </tbody>\n",
       "</table>\n",
       "</div>"
      ],
      "text/plain": [
       "       healthy  sick\n",
       "old        0.8   0.2\n",
       "young      0.6   0.4"
      ]
     },
     "execution_count": 4,
     "metadata": {},
     "output_type": "execute_result"
    }
   ],
   "source": [
    "# Second the process is only dependent on some \"general\" state variable. Here old and young.\n",
    "df_only_state = pd.DataFrame(\n",
    "    columns=process_states,\n",
    "    index=[\"old\", \"young\"],\n",
    "    data=[[0.8, 0.2],\n",
    "         [0.6, 0.4]],\n",
    ")\n",
    "df_only_state"
   ]
  },
  {
   "cell_type": "code",
   "execution_count": 5,
   "metadata": {},
   "outputs": [
    {
     "data": {
      "text/html": [
       "<div>\n",
       "<style scoped>\n",
       "    .dataframe tbody tr th:only-of-type {\n",
       "        vertical-align: middle;\n",
       "    }\n",
       "\n",
       "    .dataframe tbody tr th {\n",
       "        vertical-align: top;\n",
       "    }\n",
       "\n",
       "    .dataframe thead th {\n",
       "        text-align: right;\n",
       "    }\n",
       "</style>\n",
       "<table border=\"1\" class=\"dataframe\">\n",
       "  <thead>\n",
       "    <tr style=\"text-align: right;\">\n",
       "      <th></th>\n",
       "      <th>healthy</th>\n",
       "      <th>sick</th>\n",
       "    </tr>\n",
       "  </thead>\n",
       "  <tbody>\n",
       "    <tr>\n",
       "      <th>sick_and_old</th>\n",
       "      <td>0.8</td>\n",
       "      <td>0.2</td>\n",
       "    </tr>\n",
       "    <tr>\n",
       "      <th>sick_and_young</th>\n",
       "      <td>0.6</td>\n",
       "      <td>0.4</td>\n",
       "    </tr>\n",
       "    <tr>\n",
       "      <th>healthy_and_old</th>\n",
       "      <td>0.3</td>\n",
       "      <td>0.7</td>\n",
       "    </tr>\n",
       "    <tr>\n",
       "      <th>healthy_and_young</th>\n",
       "      <td>0.4</td>\n",
       "      <td>0.6</td>\n",
       "    </tr>\n",
       "  </tbody>\n",
       "</table>\n",
       "</div>"
      ],
      "text/plain": [
       "                   healthy  sick\n",
       "sick_and_old           0.8   0.2\n",
       "sick_and_young         0.6   0.4\n",
       "healthy_and_old        0.3   0.7\n",
       "healthy_and_young      0.4   0.6"
      ]
     },
     "execution_count": 5,
     "metadata": {},
     "output_type": "execute_result"
    }
   ],
   "source": [
    "# Third the process depending on current state of exogenous process and some \"general\" state variable.\n",
    "df_state_and_process = pd.DataFrame(\n",
    "    columns=process_states,\n",
    "    index=[\"sick_and_old\", \"sick_and_young\", \"healthy_and_old\", \"healthy_and_young\"],\n",
    "    data=[[0.8, 0.2],\n",
    "          [0.6, 0.4],\n",
    "          [0.3, 0.7],\n",
    "          [0.4, 0.6]],\n",
    ")\n",
    "df_state_and_process"
   ]
  },
  {
   "cell_type": "markdown",
   "metadata": {},
   "source": [
    "All transition matrices have the two exogenous process outcomes as columns. This is the most important convention for this transition matrix dataframes. As some outcome has to realize the rows of the matrix have to sum to 1. The rows differ from process to process and describe the state on which the process is defined.\n",
    "\n",
    "# Parsing\n",
    "\n",
    "Now the difference of parsing for each process is demonstrated."
   ]
  },
  {
   "cell_type": "code",
   "execution_count": 6,
   "metadata": {},
   "outputs": [],
   "source": [
    "params_state_and_process, covariates_state_and_process = parse_transition_matrix_for_exogenous_processes(df_state_and_process, process_name)\n",
    "params_only_state, covariates_only_state = parse_transition_matrix_for_exogenous_processes(df_only_state, process_name)\n",
    "params_only_process, covariates_only_process = parse_transition_matrix_for_exogenous_processes(df_only_process, process_name)"
   ]
  },
  {
   "cell_type": "markdown",
   "metadata": {},
   "source": [
    "## params\n",
    "\n",
    "First the params objects."
   ]
  },
  {
   "cell_type": "code",
   "execution_count": 7,
   "metadata": {},
   "outputs": [
    {
     "data": {
      "text/html": [
       "<div>\n",
       "<style scoped>\n",
       "    .dataframe tbody tr th:only-of-type {\n",
       "        vertical-align: middle;\n",
       "    }\n",
       "\n",
       "    .dataframe tbody tr th {\n",
       "        vertical-align: top;\n",
       "    }\n",
       "\n",
       "    .dataframe thead th {\n",
       "        text-align: right;\n",
       "    }\n",
       "</style>\n",
       "<table border=\"1\" class=\"dataframe\">\n",
       "  <thead>\n",
       "    <tr style=\"text-align: right;\">\n",
       "      <th></th>\n",
       "      <th></th>\n",
       "      <th>value</th>\n",
       "    </tr>\n",
       "    <tr>\n",
       "      <th>category</th>\n",
       "      <th>name</th>\n",
       "      <th></th>\n",
       "    </tr>\n",
       "  </thead>\n",
       "  <tbody>\n",
       "    <tr>\n",
       "      <th rowspan=\"4\" valign=\"top\">exogenous_process_health_shock_healthy</th>\n",
       "      <th>sick_and_old</th>\n",
       "      <td>-0.223144</td>\n",
       "    </tr>\n",
       "    <tr>\n",
       "      <th>sick_and_young</th>\n",
       "      <td>-0.510826</td>\n",
       "    </tr>\n",
       "    <tr>\n",
       "      <th>healthy_and_old</th>\n",
       "      <td>-1.20397</td>\n",
       "    </tr>\n",
       "    <tr>\n",
       "      <th>healthy_and_young</th>\n",
       "      <td>-0.916291</td>\n",
       "    </tr>\n",
       "    <tr>\n",
       "      <th rowspan=\"4\" valign=\"top\">exogenous_process_health_shock_sick</th>\n",
       "      <th>sick_and_old</th>\n",
       "      <td>-1.60944</td>\n",
       "    </tr>\n",
       "    <tr>\n",
       "      <th>sick_and_young</th>\n",
       "      <td>-0.916291</td>\n",
       "    </tr>\n",
       "    <tr>\n",
       "      <th>healthy_and_old</th>\n",
       "      <td>-0.356675</td>\n",
       "    </tr>\n",
       "    <tr>\n",
       "      <th>healthy_and_young</th>\n",
       "      <td>-0.510826</td>\n",
       "    </tr>\n",
       "  </tbody>\n",
       "</table>\n",
       "</div>"
      ],
      "text/plain": [
       "                                                             value\n",
       "category                               name                       \n",
       "exogenous_process_health_shock_healthy sick_and_old      -0.223144\n",
       "                                       sick_and_young    -0.510826\n",
       "                                       healthy_and_old    -1.20397\n",
       "                                       healthy_and_young -0.916291\n",
       "exogenous_process_health_shock_sick    sick_and_old       -1.60944\n",
       "                                       sick_and_young    -0.916291\n",
       "                                       healthy_and_old   -0.356675\n",
       "                                       healthy_and_young -0.510826"
      ]
     },
     "execution_count": 7,
     "metadata": {},
     "output_type": "execute_result"
    }
   ],
   "source": [
    "params_state_and_process"
   ]
  },
  {
   "cell_type": "code",
   "execution_count": 8,
   "metadata": {},
   "outputs": [
    {
     "data": {
      "text/html": [
       "<div>\n",
       "<style scoped>\n",
       "    .dataframe tbody tr th:only-of-type {\n",
       "        vertical-align: middle;\n",
       "    }\n",
       "\n",
       "    .dataframe tbody tr th {\n",
       "        vertical-align: top;\n",
       "    }\n",
       "\n",
       "    .dataframe thead th {\n",
       "        text-align: right;\n",
       "    }\n",
       "</style>\n",
       "<table border=\"1\" class=\"dataframe\">\n",
       "  <thead>\n",
       "    <tr style=\"text-align: right;\">\n",
       "      <th></th>\n",
       "      <th></th>\n",
       "      <th>value</th>\n",
       "    </tr>\n",
       "    <tr>\n",
       "      <th>category</th>\n",
       "      <th>name</th>\n",
       "      <th></th>\n",
       "    </tr>\n",
       "  </thead>\n",
       "  <tbody>\n",
       "    <tr>\n",
       "      <th rowspan=\"2\" valign=\"top\">exogenous_process_health_shock_healthy</th>\n",
       "      <th>old</th>\n",
       "      <td>-0.223144</td>\n",
       "    </tr>\n",
       "    <tr>\n",
       "      <th>young</th>\n",
       "      <td>-0.510826</td>\n",
       "    </tr>\n",
       "    <tr>\n",
       "      <th rowspan=\"2\" valign=\"top\">exogenous_process_health_shock_sick</th>\n",
       "      <th>old</th>\n",
       "      <td>-1.60944</td>\n",
       "    </tr>\n",
       "    <tr>\n",
       "      <th>young</th>\n",
       "      <td>-0.916291</td>\n",
       "    </tr>\n",
       "  </tbody>\n",
       "</table>\n",
       "</div>"
      ],
      "text/plain": [
       "                                                 value\n",
       "category                               name           \n",
       "exogenous_process_health_shock_healthy old   -0.223144\n",
       "                                       young -0.510826\n",
       "exogenous_process_health_shock_sick    old    -1.60944\n",
       "                                       young -0.916291"
      ]
     },
     "execution_count": 8,
     "metadata": {},
     "output_type": "execute_result"
    }
   ],
   "source": [
    "params_only_state"
   ]
  },
  {
   "cell_type": "code",
   "execution_count": 9,
   "metadata": {},
   "outputs": [
    {
     "data": {
      "text/html": [
       "<div>\n",
       "<style scoped>\n",
       "    .dataframe tbody tr th:only-of-type {\n",
       "        vertical-align: middle;\n",
       "    }\n",
       "\n",
       "    .dataframe tbody tr th {\n",
       "        vertical-align: top;\n",
       "    }\n",
       "\n",
       "    .dataframe thead th {\n",
       "        text-align: right;\n",
       "    }\n",
       "</style>\n",
       "<table border=\"1\" class=\"dataframe\">\n",
       "  <thead>\n",
       "    <tr style=\"text-align: right;\">\n",
       "      <th></th>\n",
       "      <th></th>\n",
       "      <th>value</th>\n",
       "    </tr>\n",
       "    <tr>\n",
       "      <th>category</th>\n",
       "      <th>name</th>\n",
       "      <th></th>\n",
       "    </tr>\n",
       "  </thead>\n",
       "  <tbody>\n",
       "    <tr>\n",
       "      <th rowspan=\"2\" valign=\"top\">exogenous_process_health_shock_healthy</th>\n",
       "      <th>sick</th>\n",
       "      <td>-0.223144</td>\n",
       "    </tr>\n",
       "    <tr>\n",
       "      <th>healthy</th>\n",
       "      <td>-0.510826</td>\n",
       "    </tr>\n",
       "    <tr>\n",
       "      <th rowspan=\"2\" valign=\"top\">exogenous_process_health_shock_sick</th>\n",
       "      <th>sick</th>\n",
       "      <td>-1.60944</td>\n",
       "    </tr>\n",
       "    <tr>\n",
       "      <th>healthy</th>\n",
       "      <td>-0.916291</td>\n",
       "    </tr>\n",
       "  </tbody>\n",
       "</table>\n",
       "</div>"
      ],
      "text/plain": [
       "                                                   value\n",
       "category                               name             \n",
       "exogenous_process_health_shock_healthy sick    -0.223144\n",
       "                                       healthy -0.510826\n",
       "exogenous_process_health_shock_sick    sick     -1.60944\n",
       "                                       healthy -0.916291"
      ]
     },
     "execution_count": 9,
     "metadata": {},
     "output_type": "execute_result"
    }
   ],
   "source": [
    "params_only_process"
   ]
  },
  {
   "cell_type": "markdown",
   "metadata": {},
   "source": [
    "The index entries in `category` are the same for all three processes. They consist of the keyword `exogenous_process` plus the name of the process and the each state of the process. In the index entries in `name` the states are collected, which were before the row labels of the DataFrame. The values of each entry are just the log probabilities."
   ]
  },
  {
   "cell_type": "markdown",
   "metadata": {},
   "source": [
    "## Covariates\n",
    "\n",
    "The second returned object is a dictionary containing covariate specifications. If one, wants to use that directly the `covariates` dictionary in options needs to be updated. Note, that the returned objects are not ready and are more of a template."
   ]
  },
  {
   "cell_type": "code",
   "execution_count": 10,
   "metadata": {},
   "outputs": [
    {
     "data": {
      "text/plain": [
       "{'sick_and_old': 'health_shock == sick & ?',\n",
       " 'sick_and_young': 'health_shock == sick & ?',\n",
       " 'healthy_and_old': 'health_shock == healthy & ?',\n",
       " 'healthy_and_young': 'health_shock == healthy & ?'}"
      ]
     },
     "execution_count": 10,
     "metadata": {},
     "output_type": "execute_result"
    }
   ],
   "source": [
    "covariates_state_and_process"
   ]
  },
  {
   "cell_type": "code",
   "execution_count": 11,
   "metadata": {},
   "outputs": [
    {
     "data": {
      "text/plain": [
       "{'old': '?', 'young': '?'}"
      ]
     },
     "execution_count": 11,
     "metadata": {},
     "output_type": "execute_result"
    }
   ],
   "source": [
    "covariates_only_state"
   ]
  },
  {
   "cell_type": "code",
   "execution_count": 12,
   "metadata": {},
   "outputs": [
    {
     "data": {
      "text/plain": [
       "{'sick': 'health_shock == sick', 'healthy': 'health_shock == healthy'}"
      ]
     },
     "execution_count": 12,
     "metadata": {},
     "output_type": "execute_result"
    }
   ],
   "source": [
    "covariates_only_process"
   ]
  },
  {
   "cell_type": "markdown",
   "metadata": {},
   "source": [
    "So the only case, where one could use the dictionary directly is when the process only depends on its own current state. The parsing function recognizes the exogenous process state as keyword and writes it as a logical condition in the dictionary. If there exists another word or no state of the exogenous process is in the general state on which the process is conditioned, the parsing function produces a `?` indicating the need of further information.\n",
    "\n",
    "In the following I want to give an example how this could be done."
   ]
  },
  {
   "cell_type": "code",
   "execution_count": 13,
   "metadata": {},
   "outputs": [
    {
     "data": {
      "text/plain": [
       "{'sick_and_old': 'health_shock == sick & old',\n",
       " 'sick_and_young': 'health_shock == sick & young',\n",
       " 'healthy_and_old': 'health_shock == healthy & old',\n",
       " 'healthy_and_young': 'health_shock == healthy & young'}"
      ]
     },
     "execution_count": 13,
     "metadata": {},
     "output_type": "execute_result"
    }
   ],
   "source": [
    "covariates = covariates_state_and_process.copy()\n",
    "covariates['sick_and_old'] = 'health_shock == sick & old'\n",
    "covariates['sick_and_young'] = 'health_shock == sick & young'\n",
    "covariates['healthy_and_old'] = 'health_shock == healthy & old'\n",
    "covariates['healthy_and_young'] = 'health_shock == healthy & young'\n",
    "covariates"
   ]
  },
  {
   "cell_type": "code",
   "execution_count": 14,
   "metadata": {},
   "outputs": [
    {
     "data": {
      "text/plain": [
       "{'covariates': {'age': '16 + period', 'old': 'age > 50', 'young': 'age <= 50'}}"
      ]
     },
     "execution_count": 14,
     "metadata": {},
     "output_type": "execute_result"
    }
   ],
   "source": [
    "# Now lets define the covariate entry in options. This has to include the definition of young and old.\n",
    "options = {}\n",
    "options[\"covariates\"] = {\"age\": \"16 + period\",\n",
    "                        \"old\": \"age > 50\",\n",
    "                        \"young\": \"age <= 50\"}\n",
    "options"
   ]
  },
  {
   "cell_type": "code",
   "execution_count": 15,
   "metadata": {},
   "outputs": [
    {
     "data": {
      "text/plain": [
       "{'covariates': {'age': '16 + period',\n",
       "  'old': 'age > 50',\n",
       "  'young': 'age <= 50',\n",
       "  'sick_and_old': 'health_shock == sick & old',\n",
       "  'sick_and_young': 'health_shock == sick & young',\n",
       "  'healthy_and_old': 'health_shock == healthy & old',\n",
       "  'healthy_and_young': 'health_shock == healthy & young'}}"
      ]
     },
     "execution_count": 15,
     "metadata": {},
     "output_type": "execute_result"
    }
   ],
   "source": [
    "# Now merge both dictionaries\n",
    "options[\"covariates\"] = {**options[\"covariates\"], **covariates}\n",
    "options"
   ]
  },
  {
   "cell_type": "code",
   "execution_count": null,
   "metadata": {},
   "outputs": [],
   "source": []
  }
 ],
 "metadata": {
  "kernelspec": {
   "display_name": "Python 3",
   "language": "python",
   "name": "python3"
  },
  "language_info": {
   "codemirror_mode": {
    "name": "ipython",
    "version": 3
   },
   "file_extension": ".py",
   "mimetype": "text/x-python",
   "name": "python",
   "nbconvert_exporter": "python",
   "pygments_lexer": "ipython3",
   "version": "3.7.6"
  }
 },
 "nbformat": 4,
 "nbformat_minor": 4
}
